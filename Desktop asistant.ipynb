{
 "cells": [
  {
   "cell_type": "code",
   "execution_count": 1,
   "id": "dc674104",
   "metadata": {},
   "outputs": [
    {
     "name": "stdout",
     "output_type": "stream",
     "text": [
      "Requirement already satisfied: pyttsx3 in c:\\users\\saher\\anaconda3\\lib\\site-packages (2.90)\n",
      "Requirement already satisfied: pywin32 in c:\\users\\saher\\anaconda3\\lib\\site-packages (from pyttsx3) (228)Note: you may need to restart the kernel to use updated packages.\n",
      "\n",
      "Requirement already satisfied: pypiwin32 in c:\\users\\saher\\anaconda3\\lib\\site-packages (from pyttsx3) (223)\n",
      "Requirement already satisfied: comtypes in c:\\users\\saher\\anaconda3\\lib\\site-packages (from pyttsx3) (1.1.10)\n"
     ]
    }
   ],
   "source": [
    "pip install pyttsx3"
   ]
  },
  {
   "cell_type": "code",
   "execution_count": 2,
   "id": "eca42ec9",
   "metadata": {},
   "outputs": [
    {
     "name": "stdout",
     "output_type": "stream",
     "text": [
      "Requirement already satisfied: speechRecognition in c:\\users\\saher\\anaconda3\\lib\\site-packages (3.9.0)\n",
      "Requirement already satisfied: requests>=2.26.0 in c:\\users\\saher\\anaconda3\\lib\\site-packages (from speechRecognition) (2.26.0)\n",
      "Requirement already satisfied: idna<4,>=2.5 in c:\\users\\saher\\anaconda3\\lib\\site-packages (from requests>=2.26.0->speechRecognition) (3.2)\n",
      "Requirement already satisfied: urllib3<1.27,>=1.21.1 in c:\\users\\saher\\anaconda3\\lib\\site-packages (from requests>=2.26.0->speechRecognition) (1.26.7)\n",
      "Requirement already satisfied: charset-normalizer~=2.0.0 in c:\\users\\saher\\anaconda3\\lib\\site-packages (from requests>=2.26.0->speechRecognition) (2.0.4)\n",
      "Requirement already satisfied: certifi>=2017.4.17 in c:\\users\\saher\\anaconda3\\lib\\site-packages (from requests>=2.26.0->speechRecognition) (2021.10.8)\n",
      "Note: you may need to restart the kernel to use updated packages.\n"
     ]
    }
   ],
   "source": [
    "pip install speechRecognition"
   ]
  },
  {
   "cell_type": "code",
   "execution_count": 3,
   "id": "bfb9f8cb",
   "metadata": {},
   "outputs": [
    {
     "name": "stdout",
     "output_type": "stream",
     "text": [
      "Requirement already satisfied: wikipedia in c:\\users\\saher\\anaconda3\\lib\\site-packages (1.4.0)\n",
      "Requirement already satisfied: beautifulsoup4 in c:\\users\\saher\\anaconda3\\lib\\site-packages (from wikipedia) (4.10.0)\n",
      "Requirement already satisfied: requests<3.0.0,>=2.0.0 in c:\\users\\saher\\anaconda3\\lib\\site-packages (from wikipedia) (2.26.0)\n",
      "Requirement already satisfied: certifi>=2017.4.17 in c:\\users\\saher\\anaconda3\\lib\\site-packages (from requests<3.0.0,>=2.0.0->wikipedia) (2021.10.8)\n",
      "Requirement already satisfied: idna<4,>=2.5 in c:\\users\\saher\\anaconda3\\lib\\site-packages (from requests<3.0.0,>=2.0.0->wikipedia) (3.2)\n",
      "Requirement already satisfied: charset-normalizer~=2.0.0 in c:\\users\\saher\\anaconda3\\lib\\site-packages (from requests<3.0.0,>=2.0.0->wikipedia) (2.0.4)\n",
      "Requirement already satisfied: urllib3<1.27,>=1.21.1 in c:\\users\\saher\\anaconda3\\lib\\site-packages (from requests<3.0.0,>=2.0.0->wikipedia) (1.26.7)\n",
      "Requirement already satisfied: soupsieve>1.2 in c:\\users\\saher\\anaconda3\\lib\\site-packages (from beautifulsoup4->wikipedia) (2.2.1)\n",
      "Note: you may need to restart the kernel to use updated packages.\n"
     ]
    }
   ],
   "source": [
    "pip install wikipedia"
   ]
  },
  {
   "cell_type": "code",
   "execution_count": 4,
   "id": "5120e61f",
   "metadata": {},
   "outputs": [
    {
     "name": "stdout",
     "output_type": "stream",
     "text": [
      "Requirement already satisfied: PyAudio in c:\\users\\saher\\anaconda3\\lib\\site-packages (0.2.13)\n",
      "Note: you may need to restart the kernel to use updated packages.\n"
     ]
    }
   ],
   "source": [
    "pip install PyAudio"
   ]
  },
  {
   "cell_type": "code",
   "execution_count": 11,
   "id": "f83dd53e",
   "metadata": {
    "scrolled": false
   },
   "outputs": [
    {
     "name": "stdout",
     "output_type": "stream",
     "text": [
      "Initializing Tedros\n",
      "Listening...\n",
      "Recognizing...\n",
      "result2:\n",
      "[]\n",
      "Say that again please\n"
     ]
    },
    {
     "ename": "AttributeError",
     "evalue": "'NoneType' object has no attribute 'lower'",
     "output_type": "error",
     "traceback": [
      "\u001b[1;31m---------------------------------------------------------------------------\u001b[0m",
      "\u001b[1;31mAttributeError\u001b[0m                            Traceback (most recent call last)",
      "\u001b[1;32m~\\AppData\\Local\\Temp/ipykernel_19248/2760471846.py\u001b[0m in \u001b[0;36m<module>\u001b[1;34m\u001b[0m\n\u001b[0;32m     55\u001b[0m \u001b[1;33m\u001b[0m\u001b[0m\n\u001b[0;32m     56\u001b[0m \u001b[1;31m#logic for executing basic tasks\u001b[0m\u001b[1;33m\u001b[0m\u001b[1;33m\u001b[0m\u001b[0m\n\u001b[1;32m---> 57\u001b[1;33m \u001b[1;32mif\u001b[0m \u001b[1;34m'wikipedia'\u001b[0m \u001b[1;32min\u001b[0m \u001b[0mquery\u001b[0m\u001b[1;33m.\u001b[0m\u001b[0mlower\u001b[0m\u001b[1;33m(\u001b[0m\u001b[1;33m)\u001b[0m\u001b[1;33m:\u001b[0m\u001b[1;33m\u001b[0m\u001b[1;33m\u001b[0m\u001b[0m\n\u001b[0m\u001b[0;32m     58\u001b[0m     \u001b[0mspeak\u001b[0m\u001b[1;33m(\u001b[0m\u001b[1;34m\"Searching wikipedia...\"\u001b[0m\u001b[1;33m)\u001b[0m\u001b[1;33m\u001b[0m\u001b[1;33m\u001b[0m\u001b[0m\n\u001b[0;32m     59\u001b[0m     \u001b[0mquery\u001b[0m\u001b[1;33m=\u001b[0m\u001b[0mquery\u001b[0m\u001b[1;33m.\u001b[0m\u001b[0mreplace\u001b[0m\u001b[1;33m(\u001b[0m\u001b[1;34m\"wikipedia\"\u001b[0m\u001b[1;33m,\u001b[0m\u001b[1;34m\"\"\u001b[0m\u001b[1;33m)\u001b[0m\u001b[1;33m\u001b[0m\u001b[1;33m\u001b[0m\u001b[0m\n",
      "\u001b[1;31mAttributeError\u001b[0m: 'NoneType' object has no attribute 'lower'"
     ]
    }
   ],
   "source": [
    "import pyttsx3\n",
    "import speech_recognition as sr\n",
    "import datetime\n",
    "import wikipedia\n",
    "import webbrowser\n",
    "import os\n",
    "import smtplib\n",
    "\n",
    "master=\"Saher\"\n",
    "print(\"Initializing appli\")\n",
    "\n",
    "\n",
    "engine=pyttsx3.init('sapi5')\n",
    "voices=engine.getProperty('voices')\n",
    "engine.setProperty('voice',voices[0].id)\n",
    "\n",
    "#speak function will pronounce the text passed to it\n",
    "def speak(text):\n",
    "    engine.say(text)\n",
    "    engine.runAndWait()\n",
    "speak(\"Initializing Chandler...\")\n",
    "\n",
    "\n",
    "\n",
    "#this function wishes a sper the currnet time\n",
    "def wishMe():\n",
    "    hour=int(datetime.datetime.now().hour)\n",
    "    if hour>=0 and hour<12:\n",
    "        speak(\"Good Morning!\"+master)\n",
    "    elif hour>=12 and hour<=18:\n",
    "        speak(\"Good Afternoon!\"+master)\n",
    "    else:\n",
    "        speak(\"Good Evening!\"+master)\n",
    "    speak(\"I am Chandba.How may I help you?\")\n",
    "wishMe()\n",
    "\n",
    "\n",
    "#this function takes command form microphone\n",
    "def takeCommand():\n",
    "    r=sr.Recognizer()\n",
    "    with sr.Microphone() as source:\n",
    "        print(\"Listening...\")\n",
    "        audio=r.listen(source)\n",
    "    try:\n",
    "        print(\"Recognizing...\")\n",
    "        query=r.recognize_google(audio)\n",
    "        print(f\"user said :{query}\\n\")\n",
    "    except Exception as e:\n",
    "        print(\"Say that again please\")\n",
    "        query=None\n",
    "    return query\n",
    "query=takeCommand()\n",
    "\n",
    "\n",
    "\n",
    "#logic for executing basic tasks\n",
    "if 'wikipedia' in query.lower():\n",
    "    speak(\"Searching wikipedia...\")\n",
    "    query=query.replace(\"wikipedia\",\"\")\n",
    "    results=wikipedia.summary(query,sentences=2)\n",
    "    print(results)\n",
    "    speak(results)\n",
    "elif 'open youtube' in query.lower():\n",
    "    url=\"youtube.com\"\n",
    "    chrome_path=\"C:/Program Files (x86)/Google/Chrome/Application/chrome.exe %s\"\n",
    "    webbrowser.get(using=chrome_path).open(url)\n",
    "elif 'open billboard' in query.lower():\n",
    "    url=\"billboard.com\"\n",
    "    chrome_path=\"C:/Program Files (x86)/Google/Chrome/Application/chrome.exe %s\"\n",
    "    webbrowser.get(using=chrome_path).open(url)\n",
    "#to play music\n",
    "elif 'play music' in query.lower():\n",
    "    songs_dir=\"C:/Users/saher/Desktop/songs entry\"\n",
    "    songs=os.listdir(songs_dir)\n",
    "    print(songs)\n",
    "    os.startfile(os.path.join(songs_dir,songs[0]))\n",
    "elif 'the time' in query.lower():\n",
    "    strTime=datetime.datetime.now().strftime(\"%H:%M;%S\")\n",
    "    speak(f\"{master} the time is {strTime}\")\n",
    "elif 'open notebook' in query.lower():\n",
    "    codepath=\"C:/Users/saher/anaconda3/python.exe\"\n",
    "    os.startfile(codepath)"
   ]
  },
  {
   "cell_type": "code",
   "execution_count": null,
   "id": "3f80f193",
   "metadata": {},
   "outputs": [],
   "source": []
  },
  {
   "cell_type": "code",
   "execution_count": null,
   "id": "8aca7048",
   "metadata": {},
   "outputs": [],
   "source": []
  }
 ],
 "metadata": {
  "kernelspec": {
   "display_name": "Python 3 (ipykernel)",
   "language": "python",
   "name": "python3"
  },
  "language_info": {
   "codemirror_mode": {
    "name": "ipython",
    "version": 3
   },
   "file_extension": ".py",
   "mimetype": "text/x-python",
   "name": "python",
   "nbconvert_exporter": "python",
   "pygments_lexer": "ipython3",
   "version": "3.9.7"
  }
 },
 "nbformat": 4,
 "nbformat_minor": 5
}
